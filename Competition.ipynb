{
 "cells": [
  {
   "cell_type": "code",
   "execution_count": null,
   "metadata": {
    "id": "Jray-y0klNsT"
   },
   "outputs": [],
   "source": [
    "import numpy as np\n",
    "import time\n",
    "import matplotlib.pyplot as plt\n",
    "import sys\n",
    "\n",
    "sys.path.insert(0, 'dummydirectory') #'/content/drive/My Drive/Colab Notebooks/gamenight'\n",
    "\n",
    "from arena import letsplay \n",
    "from scoring import score_stich, score_game, did_cheat\n",
    "\n",
    "from group0 import play as player0\n",
    "from group1 import play as player1\n",
    "from group2 import play as player2\n",
    "from group3 import play as player3\n",
    "\n",
    "players = [player0, player1, player2, player3]"
   ]
  },
  {
   "cell_type": "code",
   "execution_count": null,
   "metadata": {
    "colab": {
     "base_uri": "https://localhost:8080/",
     "height": 1000
    },
    "id": "5ClkKgO2wTcQ",
    "outputId": "603931e6-9695-49a3-e6a4-09ee2476c9e9"
   },
   "outputs": [],
   "source": [
    "ncards = 10\n",
    "toprint = False\n",
    "score, history = letsplay(players,ncards,toprint,score_stich,score_game,did_cheat);"
   ]
  },
  {
   "cell_type": "code",
   "execution_count": null,
   "metadata": {},
   "outputs": [],
   "source": []
  }
 ],
 "metadata": {
  "colab": {
   "collapsed_sections": [],
   "name": "Competition.ipynb",
   "provenance": []
  },
  "kernelspec": {
   "display_name": "Python 3",
   "language": "python",
   "name": "python3"
  },
  "language_info": {
   "codemirror_mode": {
    "name": "ipython",
    "version": 3
   },
   "file_extension": ".py",
   "mimetype": "text/x-python",
   "name": "python",
   "nbconvert_exporter": "python",
   "pygments_lexer": "ipython3",
   "version": "3.8.5"
  }
 },
 "nbformat": 4,
 "nbformat_minor": 4
}
