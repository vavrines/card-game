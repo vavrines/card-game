{
 "cells": [
  {
   "cell_type": "code",
   "execution_count": 26,
   "metadata": {
    "id": "Jray-y0klNsT"
   },
   "outputs": [],
   "source": [
    "import numpy as np\n",
    "import time\n",
    "import matplotlib.pyplot as plt\n",
    "import sys\n",
    "\n",
    "sys.path.insert(0, 'players') #'/content/drive/My Drive/Colab Notebooks/gamenight'\n",
    "\n",
    "from arena import letsplay \n",
    "from scoring import score_stich, score_game, did_cheat\n",
    "\n",
    "from group0 import play as player0\n",
    "from group1 import play as player1\n",
    "from group2 import play as player2\n",
    "from group3 import play as player3\n",
    "\n",
    "#players = [player0, player1, player2, player3]\n",
    "players = [player0, playerx]"
   ]
  },
  {
   "cell_type": "code",
   "execution_count": 17,
   "metadata": {
    "colab": {
     "base_uri": "https://localhost:8080/",
     "height": 1000
    },
    "id": "5ClkKgO2wTcQ",
    "outputId": "603931e6-9695-49a3-e6a4-09ee2476c9e9"
   },
   "outputs": [
    {
     "name": "stdout",
     "output_type": "stream",
     "text": [
      "#########################################\n",
      "#  ♥♠  _____    _     ___   ___    ♦♣   #\n",
      "#  ♠♦ /    |   / \\   |  |  |   \\   ♣♥   #\n",
      "#  ♦♣ |       /___\\  |__   |   |   ♥♠   #\n",
      "#  ♣♥ \\____| /     \\ |  \\  |__/    ♠♦   #\n",
      "#                                      #\n",
      "#    _   .   _   ___  _    _  ______   #\n",
      "#   | \\  |  ||  /     |    |    ||     #\n",
      "#   |  \\ |  ||  |  _  |----|    ||     #\n",
      "#   |   \\|  ||  \\___| |    |    ||     #\n",
      "#                                      #\n",
      "########################################\n",
      "\n",
      "\n"
     ]
    },
    {
     "name": "stdin",
     "output_type": "stream",
     "text": [
      " PRESS ANY KEY TO START !!! \n"
     ]
    }
   ],
   "source": [
    "ncards = 10\n",
    "toprint = False\n",
    "score, history = letsplay(players,ncards,toprint,score_stich,score_game,did_cheat);"
   ]
  },
  {
   "cell_type": "code",
   "execution_count": 18,
   "metadata": {},
   "outputs": [
    {
     "data": {
      "text/plain": [
       "array([3., 3.])"
      ]
     },
     "execution_count": 18,
     "metadata": {},
     "output_type": "execute_result"
    }
   ],
   "source": [
    "score"
   ]
  },
  {
   "cell_type": "code",
   "execution_count": 15,
   "metadata": {},
   "outputs": [],
   "source": [
    "def playerx(nplayers, ncards, nturn, playerid, history, cheated):\n",
    "    \"\"\"\n",
    "    Play the next card.\n",
    "    Keyword arguments:\n",
    "    nplayer   -- number of players in game (including you).\n",
    "    ncards    -- number of initial cards (cards 0,...,ncards-1).\n",
    "    nturn     -- number of turns already played.\n",
    "    playyerid -- your player id to access the history matrix.\n",
    "    history   -- matrix of size (ncards, nplayers) with the cards already played.\n",
    "                    Note: \n",
    "                        -- \"unplayed slots\" are filled with -1\n",
    "                        -- after the first round, the winner will come first and we go round-robin with open cards\n",
    "                            so if you are third in line, you can see the cards of other two player in the row `nturn` of history\n",
    "    Return:\n",
    "    card      -- the card that you play this turn. It has to be valid!\n",
    "    \"\"\"\n",
    "\n",
    "    # As an example, this bot plays a random, unplayed card.\n",
    "\n",
    "    mycards = history[:nturn, playerid]     # these are the cards I played\n",
    "\n",
    "    possiblecards = np.arange(ncards) # cards from 0 to ncards -1 \n",
    "\n",
    "    validcards = np.setdiff1d(possiblecards, mycards) # cards I can still play\n",
    "\n",
    "    shuffle = np.random.permutation(validcards) # shuffle\n",
    "\n",
    "    return shuffle[0] # return the first of the shuffled cards"
   ]
  },
  {
   "cell_type": "code",
   "execution_count": 23,
   "metadata": {},
   "outputs": [
    {
     "data": {
      "text/plain": [
       "1"
      ]
     },
     "execution_count": 23,
     "metadata": {},
     "output_type": "execute_result"
    }
   ],
   "source": [
    "playerx(2, 10, 1, 0, history, did_cheat)"
   ]
  },
  {
   "cell_type": "code",
   "execution_count": 24,
   "metadata": {},
   "outputs": [
    {
     "data": {
      "text/plain": [
       "array([[9, 2],\n",
       "       [5, 8],\n",
       "       [0, 7],\n",
       "       [2, 6],\n",
       "       [6, 4],\n",
       "       [8, 1],\n",
       "       [1, 9],\n",
       "       [7, 0],\n",
       "       [4, 3],\n",
       "       [3, 5]])"
      ]
     },
     "execution_count": 24,
     "metadata": {},
     "output_type": "execute_result"
    }
   ],
   "source": [
    "history"
   ]
  },
  {
   "cell_type": "code",
   "execution_count": 25,
   "metadata": {},
   "outputs": [
    {
     "data": {
      "text/plain": [
       "<function scoring.did_cheat(history)>"
      ]
     },
     "execution_count": 25,
     "metadata": {},
     "output_type": "execute_result"
    }
   ],
   "source": [
    "did_cheat"
   ]
  },
  {
   "cell_type": "code",
   "execution_count": null,
   "metadata": {},
   "outputs": [],
   "source": []
  }
 ],
 "metadata": {
  "colab": {
   "collapsed_sections": [],
   "name": "Competition.ipynb",
   "provenance": []
  },
  "kernelspec": {
   "display_name": "Python 3",
   "language": "python",
   "name": "python3"
  },
  "language_info": {
   "codemirror_mode": {
    "name": "ipython",
    "version": 3
   },
   "file_extension": ".py",
   "mimetype": "text/x-python",
   "name": "python",
   "nbconvert_exporter": "python",
   "pygments_lexer": "ipython3",
   "version": "3.7.6"
  }
 },
 "nbformat": 4,
 "nbformat_minor": 4
}
